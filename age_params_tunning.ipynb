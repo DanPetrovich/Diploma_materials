{
 "cells": [
  {
   "cell_type": "code",
   "execution_count": null,
   "id": "WyOYsMF2SEZ3",
   "metadata": {
    "colab": {
     "background_save": true,
     "base_uri": "https://localhost:8080/"
    },
    "execution": {
     "iopub.execute_input": "2025-05-08T16:32:01.168122Z",
     "iopub.status.busy": "2025-05-08T16:32:01.167837Z",
     "iopub.status.idle": "2025-05-08T16:32:19.267157Z",
     "shell.execute_reply": "2025-05-08T16:32:19.266355Z",
     "shell.execute_reply.started": "2025-05-08T16:32:01.168099Z"
    },
    "id": "WyOYsMF2SEZ3",
    "outputId": "d4de792a-68f1-4f17-ddb0-120d89f7b39f",
    "trusted": true
   },
   "outputs": [],
   "source": [
    "import sys\n",
    "\n",
    "! {sys.executable} -m pip install pytorch-lifestream\n",
    "! {sys.executable} -m pip install catboost\n",
    "! {sys.executable} -m pip install torchmetrics"
   ]
  },
  {
   "cell_type": "markdown",
   "id": "ipR01Z_jd1pt",
   "metadata": {
    "id": "ipR01Z_jd1pt"
   },
   "source": [
    "## Prepare your data\n",
    "\n",
    "- Use `Pyspark` in local or cluster mode for big dataset and `Pandas` for small.\n",
    "- Split data into required parts (train, valid, test, ...).\n",
    "- Use `ptls.preprocessing` for simple data preparation.\n",
    "- Transform features to compatible format using `Pyspark` or `Pandas` functions.\n",
    "You can also use `ptls.data_load.preprocessing` for common data transformation patterns.\n",
    "- Split sequences to `ptls-data` format with `ptls.data_load.split_tools`. Save prepared data into `Parquet` format or\n",
    "keep it in memory (`Pickle` also works).\n",
    "- Use one of the available `ptls.data_load.datasets` to define input for the models."
   ]
  },
  {
   "cell_type": "code",
   "execution_count": null,
   "id": "Om-SP9LKd1pv",
   "metadata": {
    "colab": {
     "background_save": true
    },
    "execution": {
     "iopub.execute_input": "2025-05-08T16:32:19.268756Z",
     "iopub.status.busy": "2025-05-08T16:32:19.268513Z",
     "iopub.status.idle": "2025-05-08T16:32:44.337509Z",
     "shell.execute_reply": "2025-05-08T16:32:44.336747Z",
     "shell.execute_reply.started": "2025-05-08T16:32:19.268736Z"
    },
    "id": "Om-SP9LKd1pv",
    "trusted": true
   },
   "outputs": [],
   "source": [
    "import torch\n",
    "\n",
    "import numpy as np\n",
    "import pandas as pd\n",
    "import torchmetrics\n",
    "import pytorch_lightning as pl\n",
    "\n",
    "from sklearn.metrics import confusion_matrix, accuracy_score\n",
    "from sklearn.model_selection import train_test_split\n",
    "from functools import partial\n",
    "from ptls.frames import PtlsDataModule\n",
    "from ptls.nn import TrxEncoder, RnnSeqEncoder, Head\n",
    "from ptls.data_load.datasets import MemoryMapDataset\n",
    "from ptls.preprocessing import PandasDataPreprocessor\n",
    "from ptls.frames.supervised import SeqToTargetDataset, SequenceToTarget\n",
    "from ptls.data_load.utils import collate_feature_dict\n",
    "from ptls.frames.inference_module import InferenceModule\n",
    "from ptls.frames.coles import CoLESModule\n",
    "from ptls.frames.coles.multimodal_dataset import MultiModalIterableDataset\n",
    "from pytorch_lightning.callbacks import ModelCheckpoint, EarlyStopping\n"
   ]
  },
  {
   "cell_type": "code",
   "execution_count": null,
   "id": "3cb16883-4df4-4c59-982c-2533cabb7f65",
   "metadata": {
    "execution": {
     "iopub.execute_input": "2025-05-08T16:32:44.339380Z",
     "iopub.status.busy": "2025-05-08T16:32:44.338724Z",
     "iopub.status.idle": "2025-05-08T16:32:45.056919Z",
     "shell.execute_reply": "2025-05-08T16:32:45.056298Z",
     "shell.execute_reply.started": "2025-05-08T16:32:44.339355Z"
    },
    "trusted": true
   },
   "outputs": [],
   "source": [
    "from functools import partial\n",
    "from datetime import timedelta\n",
    "\n",
    "import numpy as np\n",
    "import pandas as pd\n",
    "\n",
    "import matplotlib.pyplot as plt\n",
    "import seaborn as sns\n",
    "import catboost\n",
    "\n",
    "import torch\n",
    "import pytorch_lightning as pl\n",
    "from torch.utils.data.dataloader import DataLoader\n",
    "from pytorch_lightning.loggers import TensorBoardLogger\n",
    "\n",
    "from sklearn.model_selection import train_test_split\n",
    "\n",
    "from ptls.nn import TrxEncoder\n",
    "from ptls.nn.seq_encoder.rnn_encoder import RnnEncoder\n",
    "from ptls.frames import PtlsDataModule\n",
    "from ptls.frames.coles import CoLESModule\n",
    "from ptls.frames.coles.split_strategy import SampleSlices\n",
    "from ptls.frames.coles.multimodal_dataset import MultiModalDataset\n",
    "from ptls.frames.coles.multimodal_dataset import MultiModalIterableDataset\n",
    "from ptls.frames.coles.multimodal_dataset import MultiModalSortTimeSeqEncoderContainer\n",
    "from ptls.frames.coles.multimodal_inference_dataset import MultiModalInferenceDataset\n",
    "from ptls.frames.coles.multimodal_inference_dataset import MultiModalInferenceIterableDataset\n",
    "from ptls.frames.inference_module import InferenceModuleMultimodal\n",
    "from ptls.data_load.iterable_processing import SeqLenFilter\n",
    "from ptls.data_load import IterableProcessingDataset\n",
    "from ptls.data_load.utils import collate_feature_dict\n",
    "from ptls.data_load.datasets import MemoryMapDataset\n",
    "from ptls.preprocessing import PandasDataPreprocessor"
   ]
  },
  {
   "cell_type": "code",
   "execution_count": null,
   "id": "H5e7oTeqd1py",
   "metadata": {
    "colab": {
     "background_save": true,
     "base_uri": "https://localhost:8080/",
     "height": 206
    },
    "execution": {
     "iopub.execute_input": "2025-05-08T16:32:45.058540Z",
     "iopub.status.busy": "2025-05-08T16:32:45.058000Z",
     "iopub.status.idle": "2025-05-08T16:32:45.287022Z",
     "shell.execute_reply": "2025-05-08T16:32:45.286322Z",
     "shell.execute_reply.started": "2025-05-08T16:32:45.058516Z"
    },
    "id": "H5e7oTeqd1py",
    "outputId": "3ad59ce8-fe24-4f3b-dc98-a35947910692",
    "trusted": true
   },
   "outputs": [],
   "source": [
    "df_target = pd.read_csv(\n",
    "    \"https://huggingface.co/datasets/dllllb/age-group-prediction/resolve/main/train_target.csv?download=true\"\n",
    ")\n",
    "df_target"
   ]
  },
  {
   "cell_type": "code",
   "execution_count": null,
   "id": "Of3-MPEBd1pz",
   "metadata": {
    "colab": {
     "background_save": true,
     "base_uri": "https://localhost:8080/",
     "height": 423
    },
    "execution": {
     "iopub.execute_input": "2025-05-08T16:32:45.292730Z",
     "iopub.status.busy": "2025-05-08T16:32:45.292402Z",
     "iopub.status.idle": "2025-05-08T16:32:56.170151Z",
     "shell.execute_reply": "2025-05-08T16:32:56.169309Z",
     "shell.execute_reply.started": "2025-05-08T16:32:45.292707Z"
    },
    "id": "Of3-MPEBd1pz",
    "outputId": "24771ae2-1236-40a0-da8c-5bdb9401ff56",
    "trusted": true
   },
   "outputs": [],
   "source": [
    "df_trx = pd.read_csv(\n",
    "    \"https://huggingface.co/datasets/dllllb/age-group-prediction/resolve/main/transactions_train.csv.gz?download=true\",\n",
    "    compression=\"gzip\"\n",
    ")\n",
    "df_trx"
   ]
  },
  {
   "cell_type": "code",
   "execution_count": null,
   "id": "e3d8789e-25cc-44bc-8ab6-5a0e431a6a90",
   "metadata": {
    "execution": {
     "iopub.execute_input": "2025-05-08T16:32:56.171360Z",
     "iopub.status.busy": "2025-05-08T16:32:56.171005Z",
     "iopub.status.idle": "2025-05-08T16:32:56.176814Z",
     "shell.execute_reply": "2025-05-08T16:32:56.176072Z",
     "shell.execute_reply.started": "2025-05-08T16:32:56.171337Z"
    },
    "trusted": true
   },
   "outputs": [],
   "source": [
    "len(df_target)"
   ]
  },
  {
   "cell_type": "code",
   "execution_count": null,
   "id": "1ec6d9d7-4fc4-4b20-8820-d23cb2cafb1e",
   "metadata": {
    "execution": {
     "iopub.execute_input": "2025-05-08T16:32:56.179309Z",
     "iopub.status.busy": "2025-05-08T16:32:56.179086Z",
     "iopub.status.idle": "2025-05-08T16:32:56.190111Z",
     "shell.execute_reply": "2025-05-08T16:32:56.189481Z",
     "shell.execute_reply.started": "2025-05-08T16:32:56.179291Z"
    },
    "trusted": true
   },
   "outputs": [],
   "source": [
    "len(df_trx)"
   ]
  },
  {
   "cell_type": "code",
   "execution_count": null,
   "id": "d885c788-eada-4416-b878-d8d1e25d9591",
   "metadata": {
    "execution": {
     "iopub.execute_input": "2025-05-08T16:32:56.191932Z",
     "iopub.status.busy": "2025-05-08T16:32:56.191739Z",
     "iopub.status.idle": "2025-05-08T16:32:56.663079Z",
     "shell.execute_reply": "2025-05-08T16:32:56.662438Z",
     "shell.execute_reply.started": "2025-05-08T16:32:56.191914Z"
    },
    "trusted": true
   },
   "outputs": [],
   "source": [
    "sourceA = df_trx[[\"client_id\", \"trans_date\", \"small_group\"]]\n",
    "sourceB = df_trx[[\"client_id\", \"trans_date\", \"amount_rur\"]]"
   ]
  },
  {
   "cell_type": "code",
   "execution_count": null,
   "id": "6f14522c-f37d-4747-91bd-f86d9d02cb80",
   "metadata": {
    "execution": {
     "iopub.execute_input": "2025-05-08T16:32:56.664039Z",
     "iopub.status.busy": "2025-05-08T16:32:56.663816Z",
     "iopub.status.idle": "2025-05-08T16:33:01.848421Z",
     "shell.execute_reply": "2025-05-08T16:33:01.847668Z",
     "shell.execute_reply.started": "2025-05-08T16:32:56.664020Z"
    },
    "trusted": true
   },
   "outputs": [],
   "source": [
    "sourceA_drop_indices = np.random.choice(sourceA.index, int(150000), replace=False)\n",
    "sourceB_drop_indices = np.random.choice(sourceB.index, int(450000), replace=False)\n",
    "\n",
    "sourceA = sourceA.drop(sourceA_drop_indices).reset_index(drop=True)\n",
    "sourceB = sourceB.drop(sourceB_drop_indices).reset_index(drop=True)"
   ]
  },
  {
   "cell_type": "code",
   "execution_count": null,
   "id": "7bb6cd53-c7f2-4650-a11c-116f90cd3f0f",
   "metadata": {
    "execution": {
     "iopub.execute_input": "2025-05-08T16:33:01.849334Z",
     "iopub.status.busy": "2025-05-08T16:33:01.849086Z",
     "iopub.status.idle": "2025-05-08T16:33:22.346088Z",
     "shell.execute_reply": "2025-05-08T16:33:22.345400Z",
     "shell.execute_reply.started": "2025-05-08T16:33:01.849314Z"
    },
    "trusted": true
   },
   "outputs": [],
   "source": [
    "sourceA[\"trans_date\"] = sourceA[\"trans_date\"].apply(lambda x: x * 3600)\n",
    "sourceB[\"trans_date\"] = sourceB[\"trans_date\"].apply(lambda x: x * 3600)"
   ]
  },
  {
   "cell_type": "code",
   "execution_count": null,
   "id": "372c69e4-ad51-436c-a66c-092917254c1e",
   "metadata": {
    "execution": {
     "iopub.execute_input": "2025-05-08T16:33:22.347086Z",
     "iopub.status.busy": "2025-05-08T16:33:22.346859Z",
     "iopub.status.idle": "2025-05-08T16:33:22.351577Z",
     "shell.execute_reply": "2025-05-08T16:33:22.350513Z",
     "shell.execute_reply.started": "2025-05-08T16:33:22.347067Z"
    },
    "trusted": true
   },
   "outputs": [],
   "source": [
    "sourceA_preprocessor = PandasDataPreprocessor(\n",
    "    col_id=\"client_id\",\n",
    "    col_event_time=\"trans_date\",\n",
    "    event_time_transformation=\"none\",\n",
    "    cols_category=[\"small_group\"],\n",
    "    return_records=False,\n",
    ")\n",
    "\n",
    "sourceB_preprocessor = PandasDataPreprocessor(\n",
    "    col_id=\"client_id\",\n",
    "    col_event_time=\"trans_date\",\n",
    "    event_time_transformation=\"none\",\n",
    "    cols_numerical=[\"amount_rur\"],\n",
    "    return_records=False,\n",
    ")"
   ]
  },
  {
   "cell_type": "code",
   "execution_count": null,
   "id": "88d0eef5-a35c-4be1-bc8b-820cf55e758c",
   "metadata": {
    "execution": {
     "iopub.execute_input": "2025-05-08T16:33:22.352614Z",
     "iopub.status.busy": "2025-05-08T16:33:22.352359Z",
     "iopub.status.idle": "2025-05-08T16:34:26.087959Z",
     "shell.execute_reply": "2025-05-08T16:34:26.087175Z",
     "shell.execute_reply.started": "2025-05-08T16:33:22.352595Z"
    },
    "trusted": true
   },
   "outputs": [],
   "source": [
    "processed_sourceA = sourceA_preprocessor.fit_transform(sourceA)\n",
    "processed_sourceB = sourceB_preprocessor.fit_transform(sourceB)"
   ]
  },
  {
   "cell_type": "code",
   "execution_count": null,
   "id": "710408d0-befe-4fb0-8967-448f2291bf6e",
   "metadata": {
    "execution": {
     "iopub.execute_input": "2025-05-08T16:34:26.095014Z",
     "iopub.status.busy": "2025-05-08T16:34:26.094164Z",
     "iopub.status.idle": "2025-05-08T16:34:26.099453Z",
     "shell.execute_reply": "2025-05-08T16:34:26.098780Z",
     "shell.execute_reply.started": "2025-05-08T16:34:26.094990Z"
    },
    "trusted": true
   },
   "outputs": [],
   "source": [
    "processed_sourceA.columns = [\n",
    "    \"sourceA_\" + str(col) if str(col) != \"client_id\" else str(col)\n",
    "    for col in processed_sourceA.columns\n",
    "]"
   ]
  },
  {
   "cell_type": "code",
   "execution_count": null,
   "id": "b1f3e6dd-25f8-4fb9-a93a-829332b8fba7",
   "metadata": {
    "execution": {
     "iopub.execute_input": "2025-05-08T16:34:26.100534Z",
     "iopub.status.busy": "2025-05-08T16:34:26.100240Z",
     "iopub.status.idle": "2025-05-08T16:34:26.115831Z",
     "shell.execute_reply": "2025-05-08T16:34:26.115072Z",
     "shell.execute_reply.started": "2025-05-08T16:34:26.100507Z"
    },
    "trusted": true
   },
   "outputs": [],
   "source": [
    "processed_sourceB.columns = [\n",
    "    \"sourceB_\" + str(col) if str(col) != \"client_id\" else str(col)\n",
    "    for col in processed_sourceB.columns\n",
    "]"
   ]
  },
  {
   "cell_type": "code",
   "execution_count": null,
   "id": "4182f6b0-9f59-463d-aaec-3aa17ce79dba",
   "metadata": {
    "execution": {
     "iopub.execute_input": "2025-05-08T16:34:26.117123Z",
     "iopub.status.busy": "2025-05-08T16:34:26.116779Z",
     "iopub.status.idle": "2025-05-08T16:34:26.135331Z",
     "shell.execute_reply": "2025-05-08T16:34:26.134611Z",
     "shell.execute_reply.started": "2025-05-08T16:34:26.117095Z"
    },
    "trusted": true
   },
   "outputs": [],
   "source": [
    "joined_data = processed_sourceA.merge(processed_sourceB, how=\"outer\", on=\"client_id\")"
   ]
  },
  {
   "cell_type": "code",
   "execution_count": null,
   "id": "7856789e-a955-4caa-a8ea-56e9f6743d73",
   "metadata": {
    "execution": {
     "iopub.execute_input": "2025-05-08T16:34:26.136479Z",
     "iopub.status.busy": "2025-05-08T16:34:26.136167Z",
     "iopub.status.idle": "2025-05-08T16:34:27.441607Z",
     "shell.execute_reply": "2025-05-08T16:34:27.440697Z",
     "shell.execute_reply.started": "2025-05-08T16:34:26.136450Z"
    },
    "trusted": true
   },
   "outputs": [],
   "source": [
    "joined_data"
   ]
  },
  {
   "cell_type": "code",
   "execution_count": null,
   "id": "6c977d07-5d04-4274-ae61-f6c596b55164",
   "metadata": {
    "execution": {
     "iopub.execute_input": "2025-05-08T16:34:27.442738Z",
     "iopub.status.busy": "2025-05-08T16:34:27.442444Z",
     "iopub.status.idle": "2025-05-08T16:34:27.573214Z",
     "shell.execute_reply": "2025-05-08T16:34:27.572328Z",
     "shell.execute_reply.started": "2025-05-08T16:34:27.442715Z"
    },
    "trusted": true
   },
   "outputs": [],
   "source": [
    "joined_data = joined_data.applymap(lambda x: torch.tensor([]) if pd.isna(x) else x)"
   ]
  },
  {
   "cell_type": "code",
   "execution_count": null,
   "id": "b2bd617d-ea90-4b5a-96cd-23ae101a21f5",
   "metadata": {
    "execution": {
     "iopub.execute_input": "2025-05-08T16:34:27.574698Z",
     "iopub.status.busy": "2025-05-08T16:34:27.574352Z",
     "iopub.status.idle": "2025-05-08T16:34:28.794339Z",
     "shell.execute_reply": "2025-05-08T16:34:28.793500Z",
     "shell.execute_reply.started": "2025-05-08T16:34:27.574664Z"
    },
    "trusted": true
   },
   "outputs": [],
   "source": [
    "joined_data"
   ]
  },
  {
   "cell_type": "code",
   "execution_count": null,
   "id": "9f89fe5f-2e65-4d90-8b9a-222538f74bfc",
   "metadata": {
    "execution": {
     "iopub.execute_input": "2025-05-08T16:34:28.795325Z",
     "iopub.status.busy": "2025-05-08T16:34:28.795101Z",
     "iopub.status.idle": "2025-05-08T16:34:28.818928Z",
     "shell.execute_reply": "2025-05-08T16:34:28.817994Z",
     "shell.execute_reply.started": "2025-05-08T16:34:28.795306Z"
    },
    "trusted": true
   },
   "outputs": [],
   "source": [
    "train_df, test_df = train_test_split(joined_data,\n",
    "                                     test_size=0.4,\n",
    "                                     random_state=42)\n",
    "train_df, valid_df = train_test_split(train_df,\n",
    "                                      test_size=0.1,\n",
    "                                      random_state=42)"
   ]
  },
  {
   "cell_type": "code",
   "execution_count": null,
   "id": "546903f8-6f88-4a25-9537-06afa93a954c",
   "metadata": {
    "execution": {
     "iopub.execute_input": "2025-05-08T16:34:28.820130Z",
     "iopub.status.busy": "2025-05-08T16:34:28.819828Z",
     "iopub.status.idle": "2025-05-08T16:34:28.830750Z",
     "shell.execute_reply": "2025-05-08T16:34:28.830001Z",
     "shell.execute_reply.started": "2025-05-08T16:34:28.820108Z"
    },
    "trusted": true
   },
   "outputs": [],
   "source": [
    "train_df = train_df.reset_index(drop=True)\n",
    "valid_df = valid_df.reset_index(drop=True)\n",
    "test_df = test_df.reset_index(drop=True)"
   ]
  },
  {
   "cell_type": "code",
   "execution_count": null,
   "id": "ae1f78f6-6ec6-489e-9ce8-b830a3e8657b",
   "metadata": {
    "execution": {
     "iopub.execute_input": "2025-05-08T16:34:28.831883Z",
     "iopub.status.busy": "2025-05-08T16:34:28.831604Z",
     "iopub.status.idle": "2025-05-08T16:34:28.995041Z",
     "shell.execute_reply": "2025-05-08T16:34:28.994164Z",
     "shell.execute_reply.started": "2025-05-08T16:34:28.831853Z"
    },
    "trusted": true
   },
   "outputs": [],
   "source": [
    "train_dict = train_df.to_dict(\"records\")\n",
    "valid_dict = valid_df.to_dict(\"records\")\n",
    "test_dict = test_df.to_dict(\"records\")"
   ]
  },
  {
   "cell_type": "code",
   "execution_count": null,
   "id": "901e08dd-db96-42d0-b850-e1ab5dbfa0ff",
   "metadata": {
    "execution": {
     "iopub.execute_input": "2025-05-08T16:34:28.998748Z",
     "iopub.status.busy": "2025-05-08T16:34:28.998533Z",
     "iopub.status.idle": "2025-05-08T16:34:29.002439Z",
     "shell.execute_reply": "2025-05-08T16:34:29.001530Z",
     "shell.execute_reply.started": "2025-05-08T16:34:28.998729Z"
    },
    "trusted": true
   },
   "outputs": [],
   "source": [
    "source_features = {\n",
    "    \"sourceA\": {\n",
    "        \"categorical\": [\"small_group\"],\n",
    "        \"numeric\": [],\n",
    "    },\n",
    "    \"sourceB\": {\n",
    "        \"categorical\": [],\n",
    "        \"numeric\": [\"amount_rur\"],\n",
    "    },\n",
    "}"
   ]
  },
  {
   "cell_type": "code",
   "execution_count": null,
   "id": "ebe6998b-3e9a-4fd5-9ba6-388f2e983416",
   "metadata": {
    "execution": {
     "iopub.execute_input": "2025-05-08T16:34:29.003960Z",
     "iopub.status.busy": "2025-05-08T16:34:29.003746Z",
     "iopub.status.idle": "2025-05-08T16:34:29.014864Z",
     "shell.execute_reply": "2025-05-08T16:34:29.014085Z",
     "shell.execute_reply.started": "2025-05-08T16:34:29.003942Z"
    },
    "trusted": true
   },
   "outputs": [],
   "source": [
    "inf_test_data = MultiModalInferenceIterableDataset(\n",
    "    data = test_dict,\n",
    "    source_features = source_features,\n",
    "    col_id = \"client_id\",\n",
    "    col_time = \"trans_date\",\n",
    "    source_names = (\"sourceA\", \"sourceB\")\n",
    ")"
   ]
  },
  {
   "cell_type": "code",
   "execution_count": null,
   "id": "9931523f-1deb-4f5a-b292-aa112b2a0cb9",
   "metadata": {
    "execution": {
     "iopub.execute_input": "2025-05-08T16:34:29.016123Z",
     "iopub.status.busy": "2025-05-08T16:34:29.015828Z",
     "iopub.status.idle": "2025-05-08T16:34:29.027221Z",
     "shell.execute_reply": "2025-05-08T16:34:29.026585Z",
     "shell.execute_reply.started": "2025-05-08T16:34:29.016094Z"
    },
    "trusted": true
   },
   "outputs": [],
   "source": [
    "inf_test_loader = DataLoader(\n",
    "    dataset = inf_test_data,\n",
    "    collate_fn = partial(inf_test_data.collate_fn, col_id=\"client_id\"),\n",
    "    shuffle = False,\n",
    "    num_workers = 0,\n",
    "    batch_size = 8\n",
    ")"
   ]
  },
  {
   "cell_type": "markdown",
   "id": "2fea5913-06cd-44d8-b13e-946a731cb2eb",
   "metadata": {},
   "source": []
  },
  {
   "cell_type": "code",
   "execution_count": null,
   "id": "0fc679e5-45c7-4096-a0ef-fac34fa45605",
   "metadata": {
    "execution": {
     "iopub.execute_input": "2025-05-08T16:34:29.028192Z",
     "iopub.status.busy": "2025-05-08T16:34:29.027977Z",
     "iopub.status.idle": "2025-05-08T16:35:07.775053Z",
     "shell.execute_reply": "2025-05-08T16:35:07.773888Z",
     "shell.execute_reply.started": "2025-05-08T16:34:29.028172Z"
    },
    "trusted": true
   },
   "outputs": [],
   "source": [
    "!git clone https://github.com/google-research/google-research.git"
   ]
  },
  {
   "cell_type": "code",
   "execution_count": null,
   "id": "63ad2596-da46-4de1-8b97-2d89a983b392",
   "metadata": {
    "execution": {
     "iopub.execute_input": "2025-05-08T16:35:07.776387Z",
     "iopub.status.busy": "2025-05-08T16:35:07.776114Z",
     "iopub.status.idle": "2025-05-08T16:35:07.780137Z",
     "shell.execute_reply": "2025-05-08T16:35:07.779423Z",
     "shell.execute_reply.started": "2025-05-08T16:35:07.776365Z"
    },
    "trusted": true
   },
   "outputs": [],
   "source": [
    "import sys\n",
    "sys.path.append(\"google-research/graph_embedding/metrics\")"
   ]
  },
  {
   "cell_type": "code",
   "execution_count": null,
   "id": "1cea746c-f5de-46f6-936b-3df3061b2326",
   "metadata": {
    "execution": {
     "iopub.execute_input": "2025-05-08T16:35:07.781280Z",
     "iopub.status.busy": "2025-05-08T16:35:07.780996Z",
     "iopub.status.idle": "2025-05-08T16:35:07.794566Z",
     "shell.execute_reply": "2025-05-08T16:35:07.793804Z",
     "shell.execute_reply.started": "2025-05-08T16:35:07.781250Z"
    },
    "trusted": true
   },
   "outputs": [],
   "source": [
    "from metrics import (rankme,\n",
    "        coherence,\n",
    "        pseudo_condition_number,\n",
    "        alpha_req,\n",
    "        stable_rank,\n",
    "        ne_sum,\n",
    "        self_clustering)"
   ]
  },
  {
   "cell_type": "code",
   "execution_count": null,
   "id": "26622396-c2bc-4975-a455-bf3265a44c6c",
   "metadata": {
    "execution": {
     "iopub.execute_input": "2025-05-08T16:35:07.795777Z",
     "iopub.status.busy": "2025-05-08T16:35:07.795446Z",
     "iopub.status.idle": "2025-05-08T16:35:42.299429Z",
     "shell.execute_reply": "2025-05-08T16:35:42.298281Z",
     "shell.execute_reply.started": "2025-05-08T16:35:07.795720Z"
    },
    "trusted": true
   },
   "outputs": [],
   "source": [
    "!pip install git+https://github.com/simonzhang00/ripser-plusplus.git"
   ]
  },
  {
   "cell_type": "code",
   "execution_count": null,
   "id": "3acfe40f-5636-40b4-8916-56878eac40c1",
   "metadata": {
    "execution": {
     "iopub.execute_input": "2025-05-08T16:35:42.301051Z",
     "iopub.status.busy": "2025-05-08T16:35:42.300712Z",
     "iopub.status.idle": "2025-05-08T16:35:42.312151Z",
     "shell.execute_reply": "2025-05-08T16:35:42.311271Z",
     "shell.execute_reply.started": "2025-05-08T16:35:42.301026Z"
    },
    "trusted": true
   },
   "outputs": [],
   "source": [
    "import ripserplusplus as rpp\n",
    "def ripser_metric(embeddings):\n",
    "    \"\"\"Вычисление метрики на основе ripserplusplus.\"\"\"\n",
    "    start_time = time()  \n",
    "    \n",
    "    if not isinstance(embeddings, np.ndarray):\n",
    "        embeddings = np.array(embeddings)\n",
    "\n",
    "    \n",
    "    diagrams = rpp.run(\"--format point-cloud\", embeddings)\n",
    "\n",
    "    \n",
    "    persistence_sum = sum([birth - death for birth, death in diagrams[0] if death > birth])\n",
    "\n",
    "    elapsed_time = time() - start_time  \n",
    "    \n",
    "\n",
    "    return persistence_sum, elapsed_time"
   ]
  },
  {
   "cell_type": "code",
   "execution_count": null,
   "id": "1b832a19-eb6d-4968-b7e7-84856ff80d11",
   "metadata": {
    "execution": {
     "iopub.execute_input": "2025-05-08T16:35:42.313447Z",
     "iopub.status.busy": "2025-05-08T16:35:42.313137Z",
     "iopub.status.idle": "2025-05-08T16:35:42.330080Z",
     "shell.execute_reply": "2025-05-08T16:35:42.329299Z",
     "shell.execute_reply.started": "2025-05-08T16:35:42.313425Z"
    },
    "trusted": true
   },
   "outputs": [],
   "source": [
    "def create_datasets(train_dict, valid_dict, params, source_features):\n",
    "    splitter = SampleSlices(\n",
    "        split_count=params[\"split_count\"],\n",
    "        cnt_min=params[\"cnt_min\"],\n",
    "        cnt_max=params[\"cnt_max\"],\n",
    "    )\n",
    "\n",
    "    train_data = MultiModalIterableDataset(\n",
    "        data=train_dict,\n",
    "        splitter=splitter,\n",
    "        source_features=source_features,\n",
    "        col_id=\"client_id\",\n",
    "        col_time=\"trans_date\",\n",
    "        source_names=(\"sourceA\", \"sourceB\"),\n",
    "    )\n",
    "\n",
    "    valid_data = MultiModalIterableDataset(\n",
    "        data=valid_dict,\n",
    "        splitter=splitter,\n",
    "        source_features=source_features,\n",
    "        col_id=\"client_id\",\n",
    "        col_time=\"trans_date\",\n",
    "        source_names=(\"sourceA\", \"sourceB\"),\n",
    "    )\n",
    "\n",
    "    data_loader = PtlsDataModule(\n",
    "        train_data=train_data,\n",
    "        train_batch_size=params[\"batch_size\"],\n",
    "        train_num_workers=0,\n",
    "        valid_data=valid_data,\n",
    "    )\n",
    "\n",
    "    return data_loader"
   ]
  },
  {
   "cell_type": "code",
   "execution_count": null,
   "id": "3c308cd5-1e80-4cf8-ba00-4858ea2aed98",
   "metadata": {
    "execution": {
     "iopub.execute_input": "2025-05-08T16:35:42.331434Z",
     "iopub.status.busy": "2025-05-08T16:35:42.331128Z",
     "iopub.status.idle": "2025-05-08T16:35:42.347962Z",
     "shell.execute_reply": "2025-05-08T16:35:42.347088Z",
     "shell.execute_reply.started": "2025-05-08T16:35:42.331406Z"
    },
    "trusted": true
   },
   "outputs": [],
   "source": [
    "def compute_metrics(model, pl_trainer, inf_test_loader, selected_metrics=None, n_samples=10, sample_fraction=1/20):\n",
    "    import gc\n",
    "    from sklearn.utils import resample\n",
    "    from time import time\n",
    "\n",
    "    model.eval()\n",
    "    inference_module = InferenceModuleMultimodal(\n",
    "        model=model,\n",
    "        pandas_output=True,\n",
    "        drop_seq_features=True,\n",
    "        model_out_name=\"emb\",\n",
    "        col_id=\"client_id\",\n",
    "    )\n",
    "    inference_module.model.is_reduce_sequence = True\n",
    "\n",
    "    \n",
    "    inf_test_embeddings = pd.concat(\n",
    "        pl_trainer.predict(inference_module, inf_test_loader),\n",
    "        axis=0,\n",
    "    )\n",
    "    embeddings_np = inf_test_embeddings.drop(columns=[\"client_id\"]).to_numpy(dtype=np.float32)\n",
    "    sample_size = max(1, int(sample_fraction * embeddings_np.shape[0]))\n",
    "\n",
    "    \n",
    "    available_metrics = {\n",
    "        \"rankme\": rankme,\n",
    "        \"coherence\": coherence,\n",
    "        \"pseudo_condition_number\": pseudo_condition_number,\n",
    "        \"alpha_req\": alpha_req,\n",
    "        \"stable_rank\": stable_rank,\n",
    "        \"ne_sum\": ne_sum,\n",
    "        \"self_clustering\": self_clustering,\n",
    "        \"ripser\": ripser_metric\n",
    "    }\n",
    "    if selected_metrics is None:\n",
    "        selected_metrics = list(available_metrics.keys())\n",
    "\n",
    "    metrics = {name: [] for name in selected_metrics}\n",
    "    times = {name: [] for name in selected_metrics}\n",
    "\n",
    "    for i in range(n_samples):\n",
    "        sample = resample(embeddings_np, n_samples=sample_size, replace=False, random_state=42 + i)\n",
    "        u, s, _ = np.linalg.svd(sample, compute_uv=True, full_matrices=False)\n",
    "\n",
    "        for metric_name in selected_metrics:\n",
    "            if metric_name not in available_metrics:\n",
    "                continue\n",
    "\n",
    "            try:\n",
    "                if metric_name == \"ripser\":\n",
    "                    val, t = available_metrics[metric_name](sample)\n",
    "                else:\n",
    "                    t0 = time()\n",
    "                    val = available_metrics[metric_name](sample, u=u, s=s)\n",
    "                    t = time() - t0\n",
    "\n",
    "                metrics[metric_name].append(val)\n",
    "                times[metric_name].append(t)\n",
    "            except Exception as e:\n",
    "                print(f\"⚠️ Failed to compute {metric_name} on sample {i}: {e}\")\n",
    "\n",
    "        gc.collect()\n",
    "\n",
    "    averaged_metrics = {k: np.mean(v) for k, v in metrics.items()}\n",
    "    std_metrics = {k: np.std(v) for k, v in metrics.items()}\n",
    "    \n",
    "    averaged_times = {k: np.mean(v) for k, v in times.items()}\n",
    "    std_times = {k: np.std(v) for k, v in times.items()}\n",
    "\n",
    "    print(\"\\n📊 Средние значения метрик и время вычисления:\")\n",
    "    for metric_name in averaged_metrics:\n",
    "        metric_value = averaged_metrics[metric_name]\n",
    "        metric_time = averaged_times.get(metric_name, None)\n",
    "        print(f\"🧠 {metric_name:30s} = {metric_value:.4f} | ⏱ {metric_time:.4f} сек\")\n",
    "\n",
    "    return averaged_metrics, averaged_times, std_metrics, std_times, inf_test_embeddings\n"
   ]
  },
  {
   "cell_type": "code",
   "execution_count": null,
   "id": "d5afba88-ca89-4002-9e51-73f0c90458ec",
   "metadata": {
    "execution": {
     "iopub.execute_input": "2025-05-08T16:35:42.349465Z",
     "iopub.status.busy": "2025-05-08T16:35:42.349120Z",
     "iopub.status.idle": "2025-05-08T16:35:42.376175Z",
     "shell.execute_reply": "2025-05-08T16:35:42.375492Z",
     "shell.execute_reply.started": "2025-05-08T16:35:42.349433Z"
    },
    "trusted": true
   },
   "outputs": [],
   "source": [
    "import catboost\n",
    "\n",
    "\n",
    "def evaluate_model(model, pl_trainer, checkpoint=None, selected_metrics=None, topk=5):\n",
    "    model.eval()\n",
    "    metrics, times, std_metrics, std_times, inf_test_embeddings = compute_metrics(model, pl_trainer, inf_test_loader, selected_metrics)\n",
    "    targets_df = df_target.set_index(\"client_id\")\n",
    "    inf_test_df = inf_test_embeddings.merge(targets_df, how=\"inner\", on=\"client_id\").set_index(\"client_id\")\n",
    "    \n",
    "    X = inf_test_df.drop(columns=[\"bins\"])\n",
    "    y = inf_test_df[\"bins\"]\n",
    "    X_train, X_test, y_train, y_test = train_test_split(X, y, test_size=0.3, random_state=42)\n",
    "    \n",
    "    classifier = catboost.CatBoostClassifier(\n",
    "        iterations=150,\n",
    "        random_seed=42,\n",
    "        verbose=0,\n",
    "    )\n",
    "    classifier.fit(X_train, y_train)\n",
    "    \n",
    "    accuracy = classifier.score(X_test, y_test)\n",
    "\n",
    "    del classifier\n",
    "    \n",
    "    return metrics, times, std_metrics, std_times, accuracy"
   ]
  },
  {
   "cell_type": "code",
   "execution_count": null,
   "id": "c9423ffb-c641-49da-922a-f99f310a5420",
   "metadata": {
    "execution": {
     "iopub.execute_input": "2025-05-08T16:35:42.377297Z",
     "iopub.status.busy": "2025-05-08T16:35:42.377011Z",
     "iopub.status.idle": "2025-05-08T16:35:42.392340Z",
     "shell.execute_reply": "2025-05-08T16:35:42.391517Z",
     "shell.execute_reply.started": "2025-05-08T16:35:42.377272Z"
    },
    "trusted": true
   },
   "outputs": [],
   "source": [
    "fixed_params = {\n",
    "    \"batch_size\": 64,\n",
    "    \"learning_rate\": 0.001,\n",
    "    \"split_count\": 3,\n",
    "    \"cnt_min\": 10,\n",
    "    \"cnt_max\": 50,\n",
    "    \"embedding_dim\": 16,  \n",
    "    \"category_embedding_dim\": 8,  \n",
    "    \"hidden_size\": 128,  \n",
    "}\n",
    "\n",
    "\n",
    "variable_params = {\n",
    "    \"batch_size\": [16, 32, 64, 128], \n",
    "    \"learning_rate\": [0.0001, 0.001, 0.05],\n",
    "    \"split_count\": [2, 3, 5],\n",
    "    \"cnt_min\": [5, 10, 20],\n",
    "    \"cnt_max\": [50, 80, 100],\n",
    "    \"embedding_dim\": [8, 16, 32],\n",
    "    \"category_embedding_dim\": [8, 16, 24],\n",
    "    \"hidden_size\": [64, 128, 256, 1024],\n",
    "}\n",
    "\n",
    "\n",
    "all_hyperparameter_grids = []\n",
    "for variable_param_name, variable_param_values in variable_params.items():\n",
    "    for value in variable_param_values:\n",
    "        hyperparameter_grid = {**fixed_params, variable_param_name: value}\n",
    "        all_hyperparameter_grids.append((variable_param_name, hyperparameter_grid))\n"
   ]
  },
  {
   "cell_type": "code",
   "execution_count": null,
   "id": "32ff8195-6bc8-45f6-af73-0b9a4dd5a8c3",
   "metadata": {
    "execution": {
     "iopub.execute_input": "2025-05-08T16:35:42.393448Z",
     "iopub.status.busy": "2025-05-08T16:35:42.393096Z",
     "iopub.status.idle": "2025-05-08T16:35:42.408001Z",
     "shell.execute_reply": "2025-05-08T16:35:42.406946Z",
     "shell.execute_reply.started": "2025-05-08T16:35:42.393422Z"
    },
    "trusted": true
   },
   "outputs": [],
   "source": [
    "metric_names = [\n",
    "    \"rankme\", \"coherence\", \"pseudo_condition_number\",\n",
    "    \"alpha_req\", \"stable_rank\", \"ne_sum\", \"self_clustering\", \"ripser\"\n",
    "]"
   ]
  },
  {
   "cell_type": "code",
   "execution_count": null,
   "id": "7ca1115d-c16e-4c72-a7c6-31d5f9f098dc",
   "metadata": {
    "execution": {
     "iopub.execute_input": "2025-05-08T16:35:42.409215Z",
     "iopub.status.busy": "2025-05-08T16:35:42.408913Z",
     "iopub.status.idle": "2025-05-08T16:35:42.423811Z",
     "shell.execute_reply": "2025-05-08T16:35:42.422885Z",
     "shell.execute_reply.started": "2025-05-08T16:35:42.409178Z"
    },
    "trusted": true
   },
   "outputs": [],
   "source": [
    "category_embedding_dims = {\n",
    "    \"small_group\": (150, fixed_params[\"category_embedding_dim\"]),\n",
    "}"
   ]
  },
  {
   "cell_type": "code",
   "execution_count": null,
   "id": "ad25eb4a-0a4e-4cd6-9d6b-3e38d3cc3faa",
   "metadata": {
    "execution": {
     "iopub.execute_input": "2025-05-08T16:35:42.425038Z",
     "iopub.status.busy": "2025-05-08T16:35:42.424801Z",
     "iopub.status.idle": "2025-05-08T16:35:42.437450Z",
     "shell.execute_reply": "2025-05-08T16:35:42.436581Z",
     "shell.execute_reply.started": "2025-05-08T16:35:42.425018Z"
    },
    "trusted": true
   },
   "outputs": [],
   "source": [
    "import os"
   ]
  },
  {
   "cell_type": "code",
   "execution_count": null,
   "id": "150285f7-e90d-4a43-bc9c-ebe88839196c",
   "metadata": {
    "execution": {
     "iopub.execute_input": "2025-05-08T16:35:42.438219Z",
     "iopub.status.busy": "2025-05-08T16:35:42.437982Z",
     "iopub.status.idle": "2025-05-08T16:35:42.454998Z",
     "shell.execute_reply": "2025-05-08T16:35:42.454182Z",
     "shell.execute_reply.started": "2025-05-08T16:35:42.438200Z"
    },
    "trusted": true
   },
   "outputs": [],
   "source": [
    "checkpoints_path = \"checkpoints\"\n",
    "os.makedirs(checkpoints_path, exist_ok=True)"
   ]
  },
  {
   "cell_type": "code",
   "execution_count": null,
   "id": "7abe764b-1033-4e80-ac36-a01ea8af5eb8",
   "metadata": {
    "execution": {
     "iopub.execute_input": "2025-05-08T16:35:42.456422Z",
     "iopub.status.busy": "2025-05-08T16:35:42.456086Z",
     "iopub.status.idle": "2025-05-08T16:35:42.467608Z",
     "shell.execute_reply": "2025-05-08T16:35:42.466757Z",
     "shell.execute_reply.started": "2025-05-08T16:35:42.456393Z"
    },
    "trusted": true
   },
   "outputs": [],
   "source": [
    "splitter = SampleSlices(split_count=5, cnt_min=25, cnt_max=50)"
   ]
  },
  {
   "cell_type": "code",
   "execution_count": null,
   "id": "40fce490-8628-4ddb-a0de-88a504127673",
   "metadata": {
    "execution": {
     "iopub.execute_input": "2025-05-08T16:35:42.468879Z",
     "iopub.status.busy": "2025-05-08T16:35:42.468599Z",
     "iopub.status.idle": "2025-05-08T16:35:42.480054Z",
     "shell.execute_reply": "2025-05-08T16:35:42.479198Z",
     "shell.execute_reply.started": "2025-05-08T16:35:42.468850Z"
    },
    "trusted": true
   },
   "outputs": [],
   "source": [
    "class CustomLogger(pl.Callback):\n",
    "    def __init__(self):\n",
    "        super().__init__()\n",
    "        self.early_stopping_epoch = None  \n",
    "    \n",
    "    def on_train_epoch_end(self, trainer, pl_module):\n",
    "        train_loss = trainer.callback_metrics.get(\"train_loss\", None)\n",
    "        val_loss = trainer.callback_metrics.get(\"val_loss\", None)\n",
    "        \n",
    "        if train_loss is not None and val_loss is not None:\n",
    "            print(f\"Epoch {trainer.current_epoch}: Train Loss: {train_loss:.4f}, Val Loss: {val_loss:.4f}\")\n",
    "        \n",
    "        \n",
    "        if trainer.early_stopping_callback is not None and trainer.early_stopping_callback.wait_count == 0:\n",
    "            self.early_stopping_epoch = trainer.current_epoch\n",
    "\n",
    "\n",
    "custom_logger = CustomLogger()\n",
    "early_stopping_callback = EarlyStopping(\n",
    "    monitor=\"val_loss\",\n",
    "    patience=5,\n",
    "    mode=\"min\",\n",
    "    verbose=True\n",
    ")"
   ]
  },
  {
   "cell_type": "code",
   "execution_count": null,
   "id": "1540f7bd-56fe-402f-81e9-f7761c272a6b",
   "metadata": {
    "execution": {
     "iopub.execute_input": "2025-05-08T16:35:42.481195Z",
     "iopub.status.busy": "2025-05-08T16:35:42.480897Z",
     "iopub.status.idle": "2025-05-08T16:35:42.639784Z",
     "shell.execute_reply": "2025-05-08T16:35:42.638694Z",
     "shell.execute_reply.started": "2025-05-08T16:35:42.481168Z"
    },
    "trusted": true
   },
   "outputs": [],
   "source": [
    "! rm -rf /kaggle/working/checkpoints"
   ]
  },
  {
   "cell_type": "code",
   "execution_count": null,
   "id": "45b5a2f0-27bb-4f76-8eef-e9db0dc3b038",
   "metadata": {
    "execution": {
     "iopub.execute_input": "2025-05-08T16:35:42.641405Z",
     "iopub.status.busy": "2025-05-08T16:35:42.641050Z",
     "iopub.status.idle": "2025-05-08T16:35:42.793201Z",
     "shell.execute_reply": "2025-05-08T16:35:42.792151Z",
     "shell.execute_reply.started": "2025-05-08T16:35:42.641373Z"
    },
    "trusted": true
   },
   "outputs": [],
   "source": [
    "! rm /kaggle/working/age_tr_params_tun_full.csv"
   ]
  },
  {
   "cell_type": "code",
   "execution_count": null,
   "id": "7f3a299f-0870-4455-b906-3c943c2fd927",
   "metadata": {
    "execution": {
     "iopub.execute_input": "2025-05-08T16:35:42.794885Z",
     "iopub.status.busy": "2025-05-08T16:35:42.794467Z",
     "iopub.status.idle": "2025-05-08T16:35:42.800107Z",
     "shell.execute_reply": "2025-05-08T16:35:42.799141Z",
     "shell.execute_reply.started": "2025-05-08T16:35:42.794851Z"
    },
    "trusted": true
   },
   "outputs": [],
   "source": [
    "num_epochs = 30\n",
    "output_csv = \"age_tr_params_tun_full.csv\"\n",
    "\n",
    "\n",
    "metric_keys = [\n",
    "    \"rankme\", \"coherence\", \"pseudo_condition_number\", \n",
    "    \"alpha_req\", \"stable_rank\", \"ne_sum\", \"self_clustering\", \"ripser\"\n",
    "]\n",
    "\n",
    "columns = (\n",
    "    list(fixed_params.keys()) +\n",
    "    [\"checkpoint\", \"epoch_num\", \"accuracy\", \"early_stop_epoch\", \"hidden_size\"] +\n",
    "    [f\"metric_{k}\" for k in metric_keys] +\n",
    "    [f\"std_metric_{k}\" for k in metric_keys] +\n",
    "    [f\"time_{k}\" for k in metric_keys] +\n",
    "    [f\"std_time_{k}\" for k in metric_keys]\n",
    ")"
   ]
  },
  {
   "cell_type": "code",
   "execution_count": null,
   "id": "74305632-67ed-4eb6-aeeb-bb8f4fa57a56",
   "metadata": {
    "collapsed": true,
    "execution": {
     "execution_failed": "2025-05-08T18:49:55.654Z",
     "iopub.execute_input": "2025-05-08T16:35:42.801311Z",
     "iopub.status.busy": "2025-05-08T16:35:42.801039Z"
    },
    "jupyter": {
     "outputs_hidden": true
    },
    "trusted": true
   },
   "outputs": [],
   "source": [
    "from time import time\n",
    "import os\n",
    "import gc\n",
    "import torch\n",
    "import pandas as pd\n",
    "import glob\n",
    "from pytorch_lightning import Trainer\n",
    "from pytorch_lightning.callbacks import EarlyStopping, ModelCheckpoint\n",
    "from functools import partial\n",
    "\n",
    "cur_time = time()\n",
    "\n",
    "for param in all_hyperparameter_grids:\n",
    "    \n",
    "    print(f'All params are frozen except {param[0]}')\n",
    "    params = param[1]\n",
    "    \n",
    "\n",
    "    train_loader = create_datasets(train_dict, valid_dict, params, source_features)\n",
    "\n",
    "    sourceA_encoder_params = dict(\n",
    "        embeddings_noise=0.003,\n",
    "        linear_projection_size=64,\n",
    "        embeddings={\n",
    "            \"small_group\": {\"in\": len(np.unique(sourceA['small_group'])), \"out\": 32}\n",
    "        },\n",
    "    )\n",
    "    \n",
    "    sourceB_encoder_params = dict(\n",
    "        embeddings_noise=0.003,\n",
    "        linear_projection_size=64,\n",
    "        numeric_values={\"amount_rur\": \"identity\"},\n",
    "    )\n",
    "    \n",
    "    sourceA_encoder = TrxEncoder(**sourceA_encoder_params)\n",
    "    sourceB_encoder = TrxEncoder(**sourceB_encoder_params)\n",
    "    \n",
    "    seq_encoder = MultiModalSortTimeSeqEncoderContainer(\n",
    "        trx_encoders={\n",
    "            \"sourceA\": sourceA_encoder,\n",
    "            \"sourceB\": sourceB_encoder,\n",
    "        },\n",
    "        input_size=64,\n",
    "        hidden_size=params[\"hidden_size\"],\n",
    "        seq_encoder_cls=RnnEncoder,\n",
    "        type=\"gru\",\n",
    "    )\n",
    "\n",
    "    model = CoLESModule(\n",
    "        seq_encoder=seq_encoder,\n",
    "        optimizer_partial=partial(torch.optim.Adam, lr=params[\"learning_rate\"]),\n",
    "        lr_scheduler_partial=partial(torch.optim.lr_scheduler.StepLR, step_size=10, gamma=0.5),\n",
    "    )\n",
    "\n",
    "    early_stopping_callback = EarlyStopping(\n",
    "        monitor=\"loss\",\n",
    "        patience=5,\n",
    "        mode=\"min\",\n",
    "        verbose=True\n",
    "    )\n",
    "\n",
    "    checkpoint_callback = ModelCheckpoint(\n",
    "        dirpath=checkpoints_path,\n",
    "        filename=f\"model_{params['batch_size']}_{params['learning_rate']}_{params['split_count']}_{params['cnt_min']}_{params['cnt_max']}_{params['hidden_size']}{{epoch:02d}}\",\n",
    "        save_top_k=-1,\n",
    "        every_n_epochs=1,\n",
    "    )\n",
    "\n",
    "    \n",
    "    pl_trainer = pl.Trainer(\n",
    "        callbacks=[checkpoint_callback, early_stopping_callback, custom_logger],\n",
    "        default_root_dir=checkpoints_path,\n",
    "        check_val_every_n_epoch=1,\n",
    "        max_epochs= num_epochs,\n",
    "        accelerator=\"gpu\",\n",
    "        devices=1,\n",
    "        enable_progress_bar=True,\n",
    "        precision=16\n",
    "    )\n",
    "    model.train()\n",
    "    pl_trainer.fit(model, train_loader)\n",
    "\n",
    "    early_stop_epoch = getattr(custom_logger, \"early_stopping_epoch\", None) or num_epochs\n",
    "\n",
    "    \n",
    "    checkpoint_files = glob.glob(f\"{checkpoints_path}/model_{params['batch_size']}_{params['learning_rate']}_{params['split_count']}_{params['cnt_min']}_{params['cnt_max']}_{params['hidden_size']}*.ckpt\")\n",
    "    checkpoint_files.sort()\n",
    "    print(f\"Elapsed time: {time() - cur_time:.2f} seconds\")\n",
    "\n",
    "    print(f'Early stop is {early_stop_epoch}')\n",
    "\n",
    "    for i, checkpoint in enumerate(checkpoint_files):\n",
    "        print(f\"Processing checkpoint number {i}\")\n",
    "        model = CoLESModule.load_from_checkpoint(checkpoint, seq_encoder=seq_encoder)\n",
    "    \n",
    "        \n",
    "        metrics, times, std_metrics, std_times, accuracy = evaluate_model(model, pl_trainer, checkpoint)\n",
    "    \n",
    "        \n",
    "        metrics_flattened = {f\"metric_{k}\": round(v, 4) for k, v in metrics.items()}\n",
    "        std_metrics_flattened = {f\"std_metric_{k}\": round(v, 4) for k, v in std_metrics.items()}\n",
    "        times_flattened = {f\"time_{k}\": round(v, 4) for k, v in times.items()}\n",
    "        std_times_flattened = {f\"std_time_{k}\": round(v, 4) for k, v in std_times.items()}\n",
    "    \n",
    "        \n",
    "        new_result = {\n",
    "            **params,\n",
    "            \"checkpoint\": checkpoint,\n",
    "            \"epoch_num\": int(i),\n",
    "            \"accuracy\": accuracy,\n",
    "            \"early_stop_epoch\": int(early_stop_epoch),\n",
    "            **metrics_flattened,\n",
    "            **std_metrics_flattened,\n",
    "            **times_flattened,\n",
    "            **std_times_flattened,\n",
    "        }\n",
    "    \n",
    "        \n",
    "        results = pd.DataFrame([new_result], columns=columns)\n",
    "        print('----------')\n",
    "        print(results[\"early_stop_epoch\"])\n",
    "\n",
    "        if not os.path.exists(output_csv):  \n",
    "            pd.DataFrame(columns=columns).to_csv(output_csv, mode=\"w\", index=False, header=True)\n",
    "        \n",
    "        results.to_csv(output_csv, mode=\"a\", header=False, index=False)\n",
    "\n",
    "        del metrics, accuracy, new_result\n",
    "        torch.cuda.empty_cache()\n",
    "        gc.collect()\n",
    "\n",
    "    print(f\"Removing checkpoints for parameters: {params}\")\n",
    "    for checkpoint in checkpoint_files:\n",
    "        os.remove(checkpoint)\n",
    "\n",
    "    del model\n",
    "    del train_loader\n",
    "    torch.cuda.empty_cache()\n",
    "    gc.collect()\n",
    "\n",
    "print(\"Optimization complete!\")"
   ]
  }
 ],
 "metadata": {
  "colab": {
   "provenance": []
  },
  "kaggle": {
   "accelerator": "nvidiaTeslaT4",
   "dataSources": [],
   "dockerImageVersionId": 30918,
   "isGpuEnabled": true,
   "isInternetEnabled": true,
   "language": "python",
   "sourceType": "notebook"
  },
  "kernelspec": {
   "display_name": "Python 3",
   "language": "python",
   "name": "python3"
  },
  "language_info": {
   "codemirror_mode": {
    "name": "ipython",
    "version": 3
   },
   "file_extension": ".py",
   "mimetype": "text/x-python",
   "name": "python",
   "nbconvert_exporter": "python",
   "pygments_lexer": "ipython3",
   "version": "3.10.12"
  }
 },
 "nbformat": 4,
 "nbformat_minor": 5
}
